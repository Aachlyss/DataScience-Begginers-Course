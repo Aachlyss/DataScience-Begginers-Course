{
 "cells": [
  {
   "cell_type": "markdown",
   "metadata": {},
   "source": [
    "# Student Study Hours"
   ]
  },
  {
   "cell_type": "code",
   "execution_count": 18,
   "metadata": {},
   "outputs": [
    {
     "data": {
      "text/plain": [
       "id                    0\n",
       "name                  0\n",
       "nationality           0\n",
       "city                  0\n",
       "latitude              0\n",
       "longitude             0\n",
       "gender                0\n",
       "age                   0\n",
       "english               0\n",
       "math                  0\n",
       "sciences.grade        0\n",
       "language.grade        0\n",
       "portfolio.rating      0\n",
       "coverletter.rating    0\n",
       "refletter.rating      0\n",
       "dtype: int64"
      ]
     },
     "execution_count": 18,
     "metadata": {},
     "output_type": "execute_result"
    }
   ],
   "source": [
    "import pandas as pd\n",
    "import numpy as np\n",
    "\n",
    "df_students = pd.read_csv('student-dataset.csv', delimiter=',', header='infer')\n",
    "\n",
    "df_students = df_students.drop('ethnic.group', axis=1)\n",
    "df_students.rename(columns={'english.grade' : 'english', 'math.grade' : 'math'}, inplace=True)\n",
    "\n",
    "df_students.isnull().sum()\n"
   ]
  },
  {
   "cell_type": "code",
   "execution_count": 20,
   "metadata": {},
   "outputs": [
    {
     "data": {
      "text/plain": [
       "3.472727272727272"
      ]
     },
     "execution_count": 20,
     "metadata": {},
     "output_type": "execute_result"
    }
   ],
   "source": [
    "df_students[df_students.city == 'Tokyo'].english.mean()"
   ]
  },
  {
   "cell_type": "code",
   "execution_count": 24,
   "metadata": {},
   "outputs": [
    {
     "name": "stdout",
     "output_type": "stream",
     "text": [
      "Average grade in general (English): 3.3697068403908794\n",
      "Average grade in general (Math): 3.4143322475570033\n",
      "Average grade for Japanese students (English): 3.3307692307692305\n",
      "Average grade for Japanese students (Math): 3.5384615384615383\n"
     ]
    }
   ],
   "source": [
    "print(f'Average grade in general (English): {df_students.english.mean()}')\n",
    "print(f'Average grade in general (Math): {df_students.math.mean()}')\n",
    "\n",
    "print(f'Average grade for Japanese students (English): {df_students[df_students.nationality == \"Japan\"].english.mean()}')\n",
    "print(f'Average grade for Japanese students (Math): {df_students[df_students.nationality == \"Japan\"].math.mean()}')"
   ]
  }
 ],
 "metadata": {
  "kernelspec": {
   "display_name": "base",
   "language": "python",
   "name": "python3"
  },
  "language_info": {
   "codemirror_mode": {
    "name": "ipython",
    "version": 3
   },
   "file_extension": ".py",
   "mimetype": "text/x-python",
   "name": "python",
   "nbconvert_exporter": "python",
   "pygments_lexer": "ipython3",
   "version": "3.12.4"
  }
 },
 "nbformat": 4,
 "nbformat_minor": 2
}
